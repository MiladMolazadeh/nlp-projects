{
  "nbformat": 4,
  "nbformat_minor": 0,
  "metadata": {
    "colab": {
      "name": "levenshtein-needleman_wunsch-smith_waterman-regex.ipynb",
      "provenance": [],
      "collapsed_sections": []
    },
    "kernelspec": {
      "name": "python3",
      "display_name": "Python 3"
    }
  },
  "cells": [
    {
      "cell_type": "code",
      "metadata": {
        "id": "yGfb0Uwng9wk",
        "colab_type": "code",
        "colab": {}
      },
      "source": [
        "text = \"\"\"Princess Diana became Lady Diana Spencer after her father inherited the title of Earl Spencer in 1975. She married the heir to the British throne, Prince Charles. They had two sons and later divorced in 1996. Diana died on August 31, 1997.from injuries she sustained in a car crash in Paris. She is remembered as the \"People's Princess\" because of her widespread popularity and global humanitarian efforts.\n",
        "\n",
        "Aug 30, 1997 (all times local)\n",
        "Around 4:30 p.m.: Diana and Fayed arrive at the Ritz Paris, owned by his father,  Egyptian businessman Mohamed Fayed, through the back door and occupy the Imperial Suite.\n",
        "\n",
        "More: Princess Diana TV programming, books to mark 20th anniversary of her death are available you can contact us with the email  dianafred@yahoo.com.\n",
        "\n",
        "Between 5:40 and 6:30 p.m.: Reportedly, Fayed ventures to Repossi jewelers and two rings are later delivered to the Imperial Suite. However, a 2013 Vanity Fair article says Diana told a friend the ring she expected to receive would be \"going firmly on my right hand.\"\n",
        "\n",
        "Around 7 p.m.: Diana and Fayed exit the Ritz through the rear entrance and are driven to his residence, near the Arc de Triomphe.\n",
        "Aug 31, 1997\n",
        "12:20a.m.: With bodyguard Trevor Rees-Jones, Fayed and Diana reportedly attempt to evade photographers by leaving the hotel through its rear entrance to return to his apartment. They enter the backseat of a black Mercedes S280 to be driven by Ritz security employee Henri Paul.\n",
        "At approximately 12:23 a.m.: The speeding car, in a misguided attempt to outrun photogs, collides with a concrete pillar in the tunnel. Seconds earlier, Paul's co-worker Trevor Rees-Jones had buckled his seat belt, which Andersen said went against typical procedure for bodyguards. He is the only one who lives to see the sun rise. \n",
        "Fayed and Paul die on the scene. Following the accident, Dr. Maillez happens to be driving by and tends to Diana with limited supplies before the ambulance's arrival. Workers use an electric chainsaw to extract Diana from the car. The email address is diana@hotmail.com and you can contact with us.\n",
        "\n",
        "Approximately 1:20 a.m.: After attempting to stabilize Diana onsite, the ambulance transports her to the hospital, Andersen says in his book. French ambulances subscribe to a \"stay and play\" method, unlike the American \"scoop and run\" technique. Along the way, she suffers cardiac arrest and the ambulance stops while AED and CPR are administered.\n",
        "\n",
        "1:45a.m.: Britain's ambassador to France, Michael Jay, is notified of the accident. He alerts the queen's private secretary, Robin Janvrin, who is with the royal family at Balmoral. \n",
        "\n",
        "Approximately 2:01 a.m.: Diana arrives at Hospital, undergoing surgery minutes later, according to Andersen.\n",
        "4:00a.m.: The princess, who celebrated her 36th birthday the previous month, is pronounced dead.\n",
        "\n",
        "6:00 p.m.: Accompanied by Prince Charles and her sisters, Lady Jane Fellowes and Lady Sarah McCorquodale, Diana's body leaves the hospital bound for England, writes Andersen. About an hour later, their plane touches down at RAF Northolt, where a ceremonial guard carries her coffin, draped in the royal standard, to a waiting hearse.\n",
        "\n",
        "\n",
        "\"\"\""
      ],
      "execution_count": 0,
      "outputs": []
    },
    {
      "cell_type": "code",
      "metadata": {
        "id": "MMjmXK1kQTTc",
        "colab_type": "code",
        "outputId": "6c8dfcf9-7075-49c0-a728-8bbf49f7bfa3",
        "colab": {
          "base_uri": "https://localhost:8080/",
          "height": 451
        }
      },
      "source": [
        "import re\n",
        "\n",
        "email_pattern = re.compile(\"\\w+@[a-zA-Z_]+?\\.[a-zA-Z]{2,3}\")\n",
        "time_pattern = re.compile(\"([012]*[0-9]\\:\\d{2}\\s*((?:A.M|P.M|a.m|p.m).)*)\")\n",
        "date_pattern = re.compile(\"(Jan(uary)?|Feb(ruary)?|Mar(ch)?|Apr(il)?|May|Jun(e)?|Jul(y)?|Aug(ust)?|Sep(tember)?|Oct(ober)?|Nov(ember)?|Dec(ember)?)\\s+\\d{1,2},\\s+\\d{4}\")\n",
        "\n",
        "\n",
        "emails = re.finditer(email_pattern, text)\n",
        "times = re.finditer(time_pattern, text)\n",
        "dates = re.finditer(date_pattern, text)\n",
        "\n",
        "print(\"\\nEmails Founded:\")\n",
        "for matchNum, email in enumerate(emails, start=1):\n",
        "  print(\"\\t{}) {}\".format(matchNum,email.group()))\n",
        "  print(\"\\t\\t Username: {} \\n\\t\\t Host: {}\".format(email.group().split('@')[0], email.group().split('@')[1]))\n",
        "\n",
        "print(\"\\nDates Founded:\")\n",
        "for matchNum, date in enumerate(dates, start=1):\n",
        "  print(\"\\t{}) {}\".format(matchNum,date.group()))\n",
        "  matchNum += 1\n",
        "\n",
        "print(\"\\nTimes Founded:\")\n",
        "for matchNum, time in enumerate(times, start=1):\n",
        "  print(\"\\t{}) {}\".format(matchNum,time.group()))\n",
        "  matchNum += 1\n"
      ],
      "execution_count": 0,
      "outputs": [
        {
          "output_type": "stream",
          "text": [
            "\n",
            "Emails Founded:\n",
            "\t1) dianafred@yahoo.com\n",
            "\t\t Username: dianafred \n",
            "\t\t Host: yahoo.com\n",
            "\t2) diana@hotmail.com\n",
            "\t\t Username: diana \n",
            "\t\t Host: hotmail.com\n",
            "\n",
            "Dates Founded:\n",
            "\t1) August 31, 1997\n",
            "\t2) Aug 30, 1997\n",
            "\t3) Aug 31, 1997\n",
            "\n",
            "Times Founded:\n",
            "\t1) 4:30 p.m.\n",
            "\t2) 5:40 \n",
            "\t3) 6:30 p.m.\n",
            "\t4) 12:20a.m.\n",
            "\t5) 12:23 a.m.\n",
            "\t6) 1:20 a.m.\n",
            "\t7) 1:45a.m.\n",
            "\t8) 2:01 a.m.\n",
            "\t9) 4:00a.m.\n",
            "\t10) 6:00 p.m.\n"
          ],
          "name": "stdout"
        }
      ]
    },
    {
      "cell_type": "markdown",
      "metadata": {
        "id": "VfXm9l84yJE9",
        "colab_type": "text"
      },
      "source": [
        "![alt text](https://i.imgur.com/cQ7UA1a.png)"
      ]
    },
    {
      "cell_type": "code",
      "metadata": {
        "id": "rezQeexiNEno",
        "colab_type": "code",
        "colab": {}
      },
      "source": [
        "import numpy as np\n",
        "\n",
        "def levenshtein(X, Y):\n",
        "\n",
        "    def getScore(i,j):\n",
        "      if X[i]==Y[j]:\n",
        "          return 0\n",
        "      else:\n",
        "          return 2\n",
        "    \n",
        "    arr=np.zeros(shape=(len(X) + 1,len(Y) + 1))\n",
        "\n",
        "    for x in range(0, len(X) + 1):\n",
        "        for y in range(0, len(Y) + 1):\n",
        "          if y == 0:\n",
        "            arr [x, 0] = x\n",
        "          elif x == 0:\n",
        "            arr [0, y] = y\n",
        "          else:\n",
        "            arr [x,y] = min(\n",
        "                arr[x-1, y] + 1,\n",
        "                arr[x-1, y-1] + getScore(x-1, y-1),\n",
        "                arr[x, y-1] + 1\n",
        "                )\n",
        "                \n",
        "\n",
        "    return arr"
      ],
      "execution_count": 0,
      "outputs": []
    },
    {
      "cell_type": "markdown",
      "metadata": {
        "id": "u4lQeaZBzXeh",
        "colab_type": "text"
      },
      "source": [
        "![alt text](https://i.imgur.com/i7NaqfQ.png)"
      ]
    },
    {
      "cell_type": "code",
      "metadata": {
        "id": "BJ70fC3oKyVT",
        "colab_type": "code",
        "colab": {}
      },
      "source": [
        "def needleman_wunsch(X, Y, d, match_score, dismatch_score):\n",
        "  \n",
        "  def getScore(i,j):\n",
        "    if X[i]==Y[j]:\n",
        "        return match_score\n",
        "    else:\n",
        "        return dismatch_score\n",
        "  \n",
        "  array=np.zeros(shape=(len(X) + 1,len(Y) + 1))\n",
        "\n",
        "  for i in range(0, len(X) + 1):\n",
        "    for j in range(0, len(Y) + 1):\n",
        "      if i == 0:\n",
        "        array[0,j] = -1 * (j * d)\n",
        "      elif j == 0:\n",
        "        array[i,0] = -1 * (i * d)\n",
        "      else:\n",
        "        array[i,j] = max(array[i-1,j-1] + getScore(i-1,j-1), array[i-1,j] - d, array[i,j-1] - d)\n",
        "\n",
        "\n",
        "  return array"
      ],
      "execution_count": 0,
      "outputs": []
    },
    {
      "cell_type": "markdown",
      "metadata": {
        "id": "LkzK0MVI06IF",
        "colab_type": "text"
      },
      "source": [
        "![alt text](https://i.imgur.com/B78rely.png)"
      ]
    },
    {
      "cell_type": "code",
      "metadata": {
        "id": "efkBIYhUNr8K",
        "colab_type": "code",
        "colab": {}
      },
      "source": [
        "def smith_waterman(X, Y, d, match_score, dismatch_score):\n",
        "  \n",
        "  def getScore(i,j):\n",
        "    if X[i]==Y[j]:\n",
        "        return match_score\n",
        "    else:\n",
        "        return dismatch_score\n",
        "  \n",
        "  array=np.zeros(shape=(len(X) + 1,len(Y) + 1))\n",
        "\n",
        "  for i in range(0, len(X) + 1):\n",
        "    for j in range(0, len(Y) + 1):\n",
        "      if i == 0:\n",
        "        array[0,j] = 0\n",
        "      elif j == 0:\n",
        "        array[i,0] = 0\n",
        "      else:\n",
        "        array[i,j] = max(0, array[i-1,j-1] + getScore(i-1,j-1), array[i-1,j] - d, array[i,j-1] - d)\n",
        "\n",
        "\n",
        "  return array"
      ],
      "execution_count": 0,
      "outputs": []
    },
    {
      "cell_type": "markdown",
      "metadata": {
        "id": "GXYRLw_V4KBw",
        "colab_type": "text"
      },
      "source": [
        "در متون بزرگ الگوریتم لون‌اشتاین با اختلاف کمتری نسبت به نیدلمن سریع تر است . همچنین هردو سریع تر از واترمن هستند\n",
        "\n"
      ]
    },
    {
      "cell_type": "code",
      "metadata": {
        "id": "mwJJ2zMNe-Kr",
        "colab_type": "code",
        "outputId": "4da85b24-9754-4bfa-950c-65bef53c91b9",
        "colab": {
          "base_uri": "https://localhost:8080/",
          "height": 34
        }
      },
      "source": [
        "import time\n",
        "\n",
        "start = time.time()\n",
        "levenshtein(\"respect\", \"expect\")\n",
        "end = time.time()\n",
        "print((end - start) * 1000 * 1000)\n"
      ],
      "execution_count": 0,
      "outputs": [
        {
          "output_type": "stream",
          "text": [
            "214.57672119140625\n"
          ],
          "name": "stdout"
        }
      ]
    },
    {
      "cell_type": "code",
      "metadata": {
        "id": "068sPe-rNi1E",
        "colab_type": "code",
        "outputId": "84d96304-fbfa-436a-9bec-cb4012c2842f",
        "colab": {
          "base_uri": "https://localhost:8080/",
          "height": 34
        }
      },
      "source": [
        "start = time.time()\n",
        "needleman_wunsch(\"respect\", \"expect\",1,2,-2)\n",
        "end = time.time()\n",
        "print((end - start) * 1000 * 1000)\n"
      ],
      "execution_count": 0,
      "outputs": [
        {
          "output_type": "stream",
          "text": [
            "329.2560577392578\n"
          ],
          "name": "stdout"
        }
      ]
    },
    {
      "cell_type": "code",
      "metadata": {
        "id": "ag6FCDwjAECs",
        "colab_type": "code",
        "outputId": "5df05dc8-e359-4718-99bf-44aee51c4330",
        "colab": {
          "base_uri": "https://localhost:8080/",
          "height": 34
        }
      },
      "source": [
        "start = time.time()\n",
        "smith_waterman(\"respect\", \"expect\",2,1,-1)\n",
        "end = time.time()\n",
        "print((end - start) * 1000 * 1000)\n"
      ],
      "execution_count": 0,
      "outputs": [
        {
          "output_type": "stream",
          "text": [
            "247.00164794921875\n"
          ],
          "name": "stdout"
        }
      ]
    },
    {
      "cell_type": "code",
      "metadata": {
        "id": "cSmvAkgP3mQF",
        "colab_type": "code",
        "colab": {}
      },
      "source": [
        ""
      ],
      "execution_count": 0,
      "outputs": []
    }
  ]
}