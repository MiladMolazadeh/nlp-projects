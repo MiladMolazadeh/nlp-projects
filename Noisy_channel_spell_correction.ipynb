{
  "nbformat": 4,
  "nbformat_minor": 0,
  "metadata": {
    "colab": {
      "name": "Noisy-channel-spell_correction.ipynb",
      "provenance": []
    },
    "kernelspec": {
      "name": "python3",
      "display_name": "Python 3"
    }
  },
  "cells": [
    {
      "cell_type": "code",
      "metadata": {
        "id": "GEwCo9MsQhiG",
        "colab_type": "code",
        "outputId": "7554a99d-b2c7-47ab-bcaf-ffc323706077",
        "colab": {
          "base_uri": "https://localhost:8080/",
          "height": 69
        }
      },
      "source": [
        "from sklearn.datasets import fetch_20newsgroups\n",
        "from sklearn.feature_extraction.text import CountVectorizer\n",
        "from nltk import tokenize\n",
        "import nltk.data\n",
        "import re\n",
        "from collections import Counter\n",
        "nltk.download('punkt')"
      ],
      "execution_count": 0,
      "outputs": [
        {
          "output_type": "stream",
          "text": [
            "[nltk_data] Downloading package punkt to /root/nltk_data...\n",
            "[nltk_data]   Unzipping tokenizers/punkt.zip.\n"
          ],
          "name": "stdout"
        },
        {
          "output_type": "execute_result",
          "data": {
            "text/plain": [
              "True"
            ]
          },
          "metadata": {
            "tags": []
          },
          "execution_count": 1
        }
      ]
    },
    {
      "cell_type": "code",
      "metadata": {
        "id": "YvXQfSDAQ4FX",
        "colab_type": "code",
        "outputId": "a7794cd1-abfd-4e9a-8fc7-093d976d783d",
        "colab": {
          "base_uri": "https://localhost:8080/",
          "height": 52
        }
      },
      "source": [
        "categories = ['alt.atheism', 'soc.religion.christian','comp.graphics', 'sci.med']\n",
        "data_train = fetch_20newsgroups(subset='train', categories=categories, shuffle=True, random_state=42)\n",
        "content = []\n",
        "for d in data_train['data']:\n",
        "  content.append(d)"
      ],
      "execution_count": 0,
      "outputs": [
        {
          "output_type": "stream",
          "text": [
            "Downloading 20news dataset. This may take a few minutes.\n",
            "Downloading dataset from https://ndownloader.figshare.com/files/5975967 (14 MB)\n"
          ],
          "name": "stderr"
        }
      ]
    },
    {
      "cell_type": "code",
      "metadata": {
        "id": "UjWlAXpbRcdH",
        "colab_type": "code",
        "colab": {}
      },
      "source": [
        "misspells = ['milad', 'molazadeh', 'abouta', 'accesories', 'acadamy', 'adquiring', 'bewteen', \n",
        "             'comminication', 'dependancy', 'effeciency', 'formallize' , \n",
        "             'hierarcy', 'intertaining', 'nkow', 'persued', 'reversable', 'acress', 'navid', 'mahdi']"
      ],
      "execution_count": 0,
      "outputs": []
    },
    {
      "cell_type": "code",
      "metadata": {
        "id": "YRguI_EFDX7s",
        "colab_type": "code",
        "outputId": "2f77b6e6-eac7-40ac-ae12-23b01a81a3a2",
        "colab": {
          "base_uri": "https://localhost:8080/",
          "height": 34
        }
      },
      "source": [
        "def getWords(contents_list): \n",
        "  sentences  = []\n",
        "\n",
        "  for sentence in contents_list:\n",
        "    sentence = re.sub('[a-zA-Z0-9_.+-]+@[a-zA-Z0-9-]+\\.[a-zA-Z0-9-.]+', '', sentence)\n",
        "    sentence_clean = [i.lower() for i in re.split('[^a-zA-Z]+', sentence) if i]\n",
        "    sentences.extend(sentence_clean)\n",
        "  return sentences\n",
        "\n",
        "tokens = Counter(getWords(content))\n",
        "vocabulary = set(getWords(content))\n",
        "print(\"here is some tokens: \", (( (tokens.most_common(5)))))\n"
      ],
      "execution_count": 0,
      "outputs": [
        {
          "output_type": "stream",
          "text": [
            "here is some tokens:  [('the', 29871), ('of', 17679), ('to', 17225), ('a', 13579), ('and', 13020)]\n"
          ],
          "name": "stdout"
        }
      ]
    },
    {
      "cell_type": "code",
      "metadata": {
        "id": "uL0A-5y8Fa0w",
        "colab_type": "code",
        "outputId": "398869bb-3ef7-45cb-f8cb-46696a37925e",
        "colab": {
          "base_uri": "https://localhost:8080/",
          "height": 34
        }
      },
      "source": [
        "print(tokens.most_common(5))"
      ],
      "execution_count": 0,
      "outputs": [
        {
          "output_type": "stream",
          "text": [
            "[('the', 29871), ('of', 17679), ('to', 17225), ('a', 13579), ('and', 13020)]\n"
          ],
          "name": "stdout"
        }
      ]
    },
    {
      "cell_type": "code",
      "metadata": {
        "id": "FQYNS0y9-BcJ",
        "colab_type": "code",
        "colab": {}
      },
      "source": [
        "# p(word)\n",
        "def P(word, N=sum(tokens.values())): \n",
        "    return tokens[word] / N\n",
        "\n",
        "def getSuggestion(WordsList): \n",
        "  suggests = []\n",
        "  for w in WordsList:\n",
        "    if w in tokens:\n",
        "      suggests.append(w)\n",
        "  return suggests\n",
        "\n",
        "def getCandidates(word): \n",
        "  return (getSuggestion([word]) or getSuggestion(edit(word)) or [word])\n",
        "\n",
        "def getCorrection(word): \n",
        "  return max(getCandidates(word), key=P)\n",
        "\n",
        "def edit(word):\n",
        "  letters    = 'abcdefghijklmnopqrstuvwxyz'\n",
        "  splits     = [(word[:i], word[i:])                            for i in range(len(word) + 1)]\n",
        "  deletes    = [left + right[1:]                                for left, right in splits if right]\n",
        "  prob_del   = len(deletes)\n",
        "  transposes = [left + right[1] + right[0] + right[2:]          for left, right in splits if len(right)>1]\n",
        "  replaces   = [left + let + right[1:]                          for left, right in splits if right for let in letters]\n",
        "  inserts    = [left + let + right                              for left, right in splits for let in letters]\n",
        "  # print((set(deletes + transposes + replaces + inserts)))\n",
        "  return set(deletes + transposes + replaces + inserts)\n"
      ],
      "execution_count": 0,
      "outputs": []
    },
    {
      "cell_type": "code",
      "metadata": {
        "id": "yn-zIGb5CF56",
        "colab_type": "code",
        "outputId": "9c9f7b69-5290-495f-db83-1c7746e36273",
        "colab": {
          "base_uri": "https://localhost:8080/",
          "height": 347
        }
      },
      "source": [
        "for miss in misspells:\n",
        "  lib = [(\"miss\", \"Candidates\", \"Correction\")]\n",
        "  lib.append((miss, getCandidates(miss), getCorrection(miss)))\n",
        "  print('miss: {:30} Candidates: {:30} Correction: {:30}'.format(miss, \", \".join(getCandidates(miss)), \"\".join(getCorrection(miss))) )\n"
      ],
      "execution_count": 0,
      "outputs": [
        {
          "output_type": "stream",
          "text": [
            "miss: milad                          Candidates: milan, mild                    Correction: mild                          \n",
            "miss: molazadeh                      Candidates: molazadeh                      Correction: molazadeh                     \n",
            "miss: abouta                         Candidates: about                          Correction: about                         \n",
            "miss: accesories                     Candidates: accessories                    Correction: accessories                   \n",
            "miss: acadamy                        Candidates: academy                        Correction: academy                       \n",
            "miss: adquiring                      Candidates: acquiring                      Correction: acquiring                     \n",
            "miss: bewteen                        Candidates: between                        Correction: between                       \n",
            "miss: comminication                  Candidates: communication                  Correction: communication                 \n",
            "miss: dependancy                     Candidates: dependancy                     Correction: dependancy                    \n",
            "miss: effeciency                     Candidates: effeciency                     Correction: effeciency                    \n",
            "miss: formallize                     Candidates: formallize                     Correction: formallize                    \n",
            "miss: hierarcy                       Candidates: hierarchy                      Correction: hierarchy                     \n",
            "miss: intertaining                   Candidates: entertaining                   Correction: entertaining                  \n",
            "miss: nkow                           Candidates: know, now                      Correction: know                          \n",
            "miss: persued                        Candidates: persued                        Correction: persued                       \n",
            "miss: reversable                     Candidates: reversible                     Correction: reversible                    \n",
            "miss: acress                         Candidates: across, adress, access         Correction: access                        \n",
            "miss: navid                          Candidates: david, avid                    Correction: david                         \n",
            "miss: mahdi                          Candidates: mahdi                          Correction: mahdi                         \n"
          ],
          "name": "stdout"
        }
      ]
    },
    {
      "cell_type": "code",
      "metadata": {
        "id": "Eexw0qRJpYLZ",
        "colab_type": "code",
        "colab": {}
      },
      "source": [
        " "
      ],
      "execution_count": 0,
      "outputs": []
    }
  ]
}