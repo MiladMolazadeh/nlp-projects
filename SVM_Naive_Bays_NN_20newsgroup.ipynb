{
  "nbformat": 4,
  "nbformat_minor": 0,
  "metadata": {
    "colab": {
      "name": "SVM-Naive_Bays-NN-20newsgroup.ipynb",
      "provenance": [],
      "collapsed_sections": [],
      "machine_shape": "hm"
    },
    "kernelspec": {
      "name": "python3",
      "display_name": "Python 3"
    },
    "accelerator": "GPU"
  },
  "cells": [
    {
      "cell_type": "code",
      "metadata": {
        "id": "5Gj_aY7HlyyQ",
        "colab_type": "code",
        "outputId": "0f685f56-79e8-4bb4-d736-60f55ff1025d",
        "colab": {
          "base_uri": "https://localhost:8080/",
          "height": 81
        }
      },
      "source": [
        "from keras import Sequential\n",
        "from keras.layers import Dense, Dropout\n",
        "from sklearn.datasets import fetch_20newsgroups\n",
        "from sklearn.feature_extraction.text import TfidfVectorizer \n",
        "from sklearn.naive_bayes import MultinomialNB\n",
        "from sklearn import svm\n",
        "from sklearn.svm import LinearSVC\n",
        "from sklearn import metrics\n",
        "import numpy as np\n",
        "from sklearn.metrics import *\n",
        "from nltk.tokenize import TweetTokenizer\n"
      ],
      "execution_count": 0,
      "outputs": [
        {
          "output_type": "stream",
          "text": [
            "Using TensorFlow backend.\n"
          ],
          "name": "stderr"
        },
        {
          "output_type": "display_data",
          "data": {
            "text/html": [
              "<p style=\"color: red;\">\n",
              "The default version of TensorFlow in Colab will soon switch to TensorFlow 2.x.<br>\n",
              "We recommend you <a href=\"https://www.tensorflow.org/guide/migrate\" target=\"_blank\">upgrade</a> now \n",
              "or ensure your notebook will continue to use TensorFlow 1.x via the <code>%tensorflow_version 1.x</code> magic:\n",
              "<a href=\"https://colab.research.google.com/notebooks/tensorflow_version.ipynb\" target=\"_blank\">more info</a>.</p>\n"
            ],
            "text/plain": [
              "<IPython.core.display.HTML object>"
            ]
          },
          "metadata": {
            "tags": []
          }
        }
      ]
    },
    {
      "cell_type": "code",
      "metadata": {
        "id": "w1SQB1wPra0i",
        "colab_type": "code",
        "colab": {}
      },
      "source": [
        "def TFIDF(X_train, X_test,MAX_NB_WORDS=75000):\n",
        "    vectorizer_x = TfidfVectorizer(max_features=MAX_NB_WORDS)\n",
        "    X_train = vectorizer_x.fit_transform(X_train).toarray()\n",
        "    X_test = vectorizer_x.transform(X_test).toarray()\n",
        "    print(\"tf-idf with\",str(np.array(X_train).shape[1]),\"features\")\n",
        "    return (X_train,X_test)"
      ],
      "execution_count": 0,
      "outputs": []
    },
    {
      "cell_type": "code",
      "metadata": {
        "id": "12hYnonmtqJZ",
        "colab_type": "code",
        "colab": {}
      },
      "source": [
        "def modelEvaluation(pred, test_labels):\n",
        "    #Print model evaluation to predicted result \n",
        "    print(\"F1-Measure: \",metrics.f1_score(test_labels, pred, average='macro'), \"\\t||\\tAccuracy: \", metrics.accuracy_score(test_labels, pred))\n",
        "    print(\"\\n---------------------------\\n\")\n",
        "    print(\"\\nConfusion Matrix: \\n\",metrics.confusion_matrix(test_labels, pred))\n",
        "    # print(\"\\nclassification_report: \\n\",metrics.classification_report(test_labels, np.argmax(pred, axis=1)))\n",
        "    print(\"\\n---------------------------\\n\")\n"
      ],
      "execution_count": 0,
      "outputs": []
    },
    {
      "cell_type": "code",
      "metadata": {
        "id": "GTwo23nJvtsj",
        "colab_type": "code",
        "colab": {}
      },
      "source": [
        "def naive_bayes_classifier(train, test, train_target, test_target):\n",
        "    mnb = MultinomialNB()\n",
        "    mnb.fit(train, train_target)\n",
        "    predictions = mnb.predict(test)\n",
        "    modelEvaluation(predictions, test_target)"
      ],
      "execution_count": 0,
      "outputs": []
    },
    {
      "cell_type": "code",
      "metadata": {
        "id": "DDkpsaUvtPnt",
        "colab_type": "code",
        "colab": {}
      },
      "source": [
        "def svm_classifier(train, test, train_target, test_target):\n",
        "    final = LinearSVC(C=0.5)\n",
        "    final.fit(train, train_target)\n",
        "    modelEvaluation(final.predict(test), test_target)\n",
        "                                    \n",
        "    return None"
      ],
      "execution_count": 0,
      "outputs": []
    },
    {
      "cell_type": "code",
      "metadata": {
        "id": "TPpiXPxs8uM1",
        "colab_type": "code",
        "colab": {}
      },
      "source": [
        "def nn_classifier(shape, nClasses):\n",
        "    \n",
        "    dropout=0.5\n",
        "    model = Sequential()\n",
        "    node = 512 # number of nodes\n",
        "    nLayers = 4 # number of  hidden layer\n",
        "    model.add(Dense(node,input_dim=shape,activation='relu'))\n",
        "    \n",
        "    # hidden lyers\n",
        "    model.add(Dropout(dropout))\n",
        "    for i in range(0,nLayers):\n",
        "        model.add(Dense(node,input_dim=node,activation='relu'))\n",
        "        model.add(Dropout(dropout))\n",
        "    \n",
        "    # output\n",
        "    model.add(Dense(nClasses, activation='softmax'))\n",
        "    model.compile(loss='sparse_categorical_crossentropy', optimizer='adam', metrics=['accuracy'])\n",
        "    return model"
      ],
      "execution_count": 0,
      "outputs": []
    },
    {
      "cell_type": "code",
      "metadata": {
        "id": "iteYAsPimiG5",
        "colab_type": "code",
        "outputId": "04146580-e815-4862-dbe6-e0a08a771c84",
        "colab": {
          "base_uri": "https://localhost:8080/",
          "height": 52
        }
      },
      "source": [
        "data_train = fetch_20newsgroups(subset='train')\n",
        "categories = (data_train.target_names)\n",
        "\n",
        "\n",
        "data_train = fetch_20newsgroups(subset='train', categories=categories)\n",
        "data_test = fetch_20newsgroups(subset='test', categories=categories)\n",
        "\n",
        "train = data_train.data\n",
        "train_labels = data_train.target\n",
        "test = data_test.data\n",
        "test_labels = data_test.target\n",
        "\n",
        "\n",
        "group0 = [1, 2, 3, 4, 5]    # comp\n",
        "group1 = [7, 8, 9, 10]      # rec\n",
        "group2 = [11, 12, 13, 14]   # sci\n",
        "group5 = [0, 15, 19]        # alt\n",
        "group3 = [6]                # misc\n",
        "group4 = [18, 17, 16]       # talk\n",
        "\n",
        "\n"
      ],
      "execution_count": 0,
      "outputs": [
        {
          "output_type": "stream",
          "text": [
            "Downloading 20news dataset. This may take a few minutes.\n",
            "Downloading dataset from https://ndownloader.figshare.com/files/5975967 (14 MB)\n"
          ],
          "name": "stderr"
        }
      ]
    },
    {
      "cell_type": "code",
      "metadata": {
        "id": "FUUQLz6_1-je",
        "colab_type": "code",
        "colab": {}
      },
      "source": [
        "def mergeCat(labels):\n",
        "  for i,n in enumerate(labels):\n",
        "    if n in group0: labels[i] = 0\n",
        "    elif n in group1: labels[i] = 1\n",
        "    elif n in group2: labels[i] = 2\n",
        "    elif n in group3: labels[i] = 3\n",
        "    elif n in group4: labels[i] = 4\n",
        "    elif n in group5: labels[i] = 5\n",
        "  return labels\n"
      ],
      "execution_count": 0,
      "outputs": []
    },
    {
      "cell_type": "code",
      "metadata": {
        "id": "s_bx-VBEnUhC",
        "colab_type": "code",
        "colab": {}
      },
      "source": [
        "y_train = mergeCat(data_train.target)\n",
        "y_test = mergeCat(data_test.target)"
      ],
      "execution_count": 0,
      "outputs": []
    },
    {
      "cell_type": "code",
      "metadata": {
        "id": "4Xckn618r0dE",
        "colab_type": "code",
        "outputId": "f02e01a4-1eac-4cdb-fcfe-b1192a3ab74d",
        "colab": {
          "base_uri": "https://localhost:8080/",
          "height": 34
        }
      },
      "source": [
        "X_train_tfidf,X_test_tfidf = TFIDF(data_train.data,data_test.data)"
      ],
      "execution_count": 0,
      "outputs": [
        {
          "output_type": "stream",
          "text": [
            "tf-idf with 75000 features\n"
          ],
          "name": "stdout"
        }
      ]
    },
    {
      "cell_type": "code",
      "metadata": {
        "id": "q8hlIfpImK8D",
        "colab_type": "code",
        "outputId": "a61cda38-e364-4d8b-cf65-4a508cd789d6",
        "colab": {
          "base_uri": "https://localhost:8080/",
          "height": 278
        }
      },
      "source": [
        "naive_bayes_classifier(X_train_tfidf, X_test_tfidf, y_train, y_test)"
      ],
      "execution_count": 0,
      "outputs": [
        {
          "output_type": "stream",
          "text": [
            "F1-Measure:  0.7334698849801183 \t||\tAccuracy:  0.8518321826872013\n",
            "\n",
            "---------------------------\n",
            "\n",
            "\n",
            "Confusion Matrix: \n",
            " [[1899   15   41    0    0    0]\n",
            " [  34 1529   26    0    1    0]\n",
            " [ 235   26 1312    0    4    2]\n",
            " [ 268   95   26    1    0    0]\n",
            " [  31   30  100    0  876   13]\n",
            " [  35   29   75    0   30  799]]\n",
            "\n",
            "---------------------------\n",
            "\n"
          ],
          "name": "stdout"
        }
      ]
    },
    {
      "cell_type": "code",
      "metadata": {
        "id": "Jft9XCbWdKIG",
        "colab_type": "code",
        "colab": {}
      },
      "source": [
        "svm_classifier(X_train_tfidf, X_test_tfidf, y_train, y_test)"
      ],
      "execution_count": 0,
      "outputs": []
    },
    {
      "cell_type": "code",
      "metadata": {
        "id": "Ka_dDqWg89C0",
        "colab_type": "code",
        "outputId": "ca632e0b-60b9-4e1c-ca79-91690f4eacb4",
        "colab": {
          "base_uri": "https://localhost:8080/",
          "height": 642
        }
      },
      "source": [
        "model_nn = nn_classifier(X_train_tfidf.shape[1], 6)\n",
        "history = model_nn.fit(X_train_tfidf, y_train,\n",
        "                              validation_split=0.25,\n",
        "                              epochs=10,\n",
        "                              shuffle=True,\n",
        "                              batch_size=32,\n",
        "                              verbose=2)\n",
        "predicted = model_nn.predict(X_test_tfidf)\n",
        "print(\"\\nclassification_report: \\n\",metrics.classification_report(y_test, np.argmax(predicted, axis=1)))\n"
      ],
      "execution_count": 0,
      "outputs": [
        {
          "output_type": "stream",
          "text": [
            "Train on 8485 samples, validate on 2829 samples\n",
            "Epoch 1/10\n",
            " - 9s - loss: 0.9018 - acc: 0.6166 - val_loss: 0.2544 - val_acc: 0.9275\n",
            "Epoch 2/10\n",
            " - 7s - loss: 0.1570 - acc: 0.9538 - val_loss: 0.2059 - val_acc: 0.9456\n",
            "Epoch 3/10\n",
            " - 7s - loss: 0.0579 - acc: 0.9836 - val_loss: 0.2087 - val_acc: 0.9502\n",
            "Epoch 4/10\n",
            " - 7s - loss: 0.0311 - acc: 0.9926 - val_loss: 0.3164 - val_acc: 0.9297\n",
            "Epoch 5/10\n",
            " - 7s - loss: 0.0297 - acc: 0.9938 - val_loss: 0.2382 - val_acc: 0.9502\n",
            "Epoch 6/10\n",
            " - 7s - loss: 0.0276 - acc: 0.9960 - val_loss: 0.2409 - val_acc: 0.9480\n",
            "Epoch 7/10\n",
            " - 7s - loss: 0.0182 - acc: 0.9972 - val_loss: 0.3481 - val_acc: 0.9427\n",
            "Epoch 8/10\n",
            " - 7s - loss: 0.0187 - acc: 0.9974 - val_loss: 0.2569 - val_acc: 0.9502\n",
            "Epoch 9/10\n",
            " - 7s - loss: 0.0155 - acc: 0.9981 - val_loss: 0.2536 - val_acc: 0.9512\n",
            "Epoch 10/10\n",
            " - 7s - loss: 0.0160 - acc: 0.9973 - val_loss: 0.2923 - val_acc: 0.9449\n",
            "\n",
            "classification_report: \n",
            "               precision    recall  f1-score   support\n",
            "\n",
            "           0       0.92      0.91      0.92      1955\n",
            "           1       0.95      0.95      0.95      1590\n",
            "           2       0.88      0.86      0.87      1579\n",
            "           3       0.78      0.85      0.81       390\n",
            "           4       0.97      0.74      0.84      1050\n",
            "           5       0.74      0.96      0.84       968\n",
            "\n",
            "    accuracy                           0.89      7532\n",
            "   macro avg       0.87      0.88      0.87      7532\n",
            "weighted avg       0.90      0.89      0.89      7532\n",
            "\n"
          ],
          "name": "stdout"
        }
      ]
    },
    {
      "cell_type": "code",
      "metadata": {
        "id": "uJnr0jVTL4Uw",
        "colab_type": "code",
        "colab": {}
      },
      "source": [
        "from keras.utils import plot_model\n",
        "plot_model(model_nn, to_file='model.png')"
      ],
      "execution_count": 0,
      "outputs": []
    },
    {
      "cell_type": "code",
      "metadata": {
        "id": "IBe-hBxxT4-J",
        "colab_type": "code",
        "outputId": "638825f2-9d5b-44e9-84ed-3852d0e91a29",
        "colab": {
          "base_uri": "https://localhost:8080/",
          "height": 573
        }
      },
      "source": [
        "import matplotlib.pyplot as plt\n",
        "\n",
        "\n",
        "# Plot training & validation accuracy values\n",
        "plt.plot(history.history['acc'])\n",
        "plt.plot(history.history['val_acc'])\n",
        "plt.title('Model accuracy')\n",
        "plt.ylabel('Accuracy')\n",
        "plt.xlabel('Epoch')\n",
        "plt.legend(['Train', 'Valid'], loc='upper left')\n",
        "plt.show()\n",
        "\n",
        "# Plot training & validation loss values\n",
        "plt.plot(history.history['loss'])\n",
        "plt.plot(history.history['val_loss'])\n",
        "plt.title('Model loss')\n",
        "plt.ylabel('Loss')\n",
        "plt.xlabel('Epoch')\n",
        "plt.legend(['Train', 'Test'], loc='upper left')\n",
        "plt.show()"
      ],
      "execution_count": 0,
      "outputs": [
        {
          "output_type": "display_data",
          "data": {
            "image/png": "[encoded data removed]",
            "text/plain": [
              "<Figure size 432x288 with 1 Axes>"
            ]
          },
          "metadata": {
            "tags": []
          }
        },
        {
          "output_type": "display_data",
          "data": {
            "image/png": "[encoded data removed]",
            "text/plain": [
              "<Figure size 432x288 with 1 Axes>"
            ]
          },
          "metadata": {
            "tags": []
          }
        }
      ]
    },
    {
      "cell_type": "code",
      "metadata": {
        "id": "cDhMifusX98Z",
        "colab_type": "code",
        "colab": {}
      },
      "source": [
        ""
      ],
      "execution_count": 0,
      "outputs": []
    },
    {
      "cell_type": "code",
      "metadata": {
        "id": "gFTPTpjAUGGu",
        "colab_type": "code",
        "colab": {}
      },
      "source": [
        ""
      ],
      "execution_count": 0,
      "outputs": []
    }
  ]
}