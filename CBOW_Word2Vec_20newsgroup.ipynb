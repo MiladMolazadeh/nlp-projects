{
  "nbformat": 4,
  "nbformat_minor": 0,
  "metadata": {
    "kernelspec": {
      "language": "python",
      "display_name": "Python 3",
      "name": "python3"
    },
    "language_info": {
      "pygments_lexer": "ipython3",
      "nbconvert_exporter": "python",
      "version": "3.6.4",
      "file_extension": ".py",
      "codemirror_mode": {
        "name": "ipython",
        "version": 3
      },
      "name": "python",
      "mimetype": "text/x-python"
    },
    "colab": {
      "name": "CBOW_Word2Vec_20newsgroup.ipynb",
      "provenance": []
    }
  },
  "cells": [
    {
      "cell_type": "code",
      "metadata": {
        "_uuid": "8f2839f25d086af736a60e9eeb907d3b93b6e0e5",
        "_cell_guid": "b1076dfc-b9ad-4769-8c92-a6c4dae69d19",
        "trusted": true,
        "id": "ZOU1a_epkcin",
        "colab_type": "code",
        "colab": {}
      },
      "source": [
        "# This Python 3 environment comes with many helpful analytics libraries installed\n",
        "# It is defined by the kaggle/python docker image: https://github.com/kaggle/docker-python\n",
        "# For example, here's several helpful packages to load in \n",
        "\n",
        "import numpy as np # linear algebra\n",
        "import pandas as pd # data processing, CSV file I/O (e.g. pd.read_csv)\n",
        "\n",
        "# Input data files are available in the \"../input/\" directory.\n",
        "# For example, running this (by clicking run or pressing Shift+Enter) will list all files under the input directory\n",
        "\n",
        "import os\n",
        "for dirname, _, filenames in os.walk('/kaggle/input'):\n",
        "    for filename in filenames:\n",
        "        print(os.path.join(dirname, filename))\n",
        "\n",
        "# Any results you write to the current directory are saved as output."
      ],
      "execution_count": 0,
      "outputs": []
    },
    {
      "cell_type": "code",
      "metadata": {
        "trusted": true,
        "id": "RuGmujUIkci7",
        "colab_type": "code",
        "outputId": "eace24aa-f672-458e-e05a-cf0c63ce8c3c",
        "colab": {}
      },
      "source": [
        "from gensim.test.utils import common_texts, get_tmpfile\n",
        "from gensim.models import Word2Vec\n",
        "from gensim.models import KeyedVectors\n",
        "from sklearn.datasets import fetch_20newsgroups\n",
        "from nltk.tokenize import TweetTokenizer\n",
        "\n",
        "tv = TweetTokenizer()\n",
        "\n",
        "data_train = fetch_20newsgroups(subset='train', categories=fetch_20newsgroups(subset='train').target_names)\n",
        "texts = []\n",
        "for doc in data_train['data'][:100]:\n",
        "    texts.append(tv.tokenize(doc))\n",
        "print(texts[:2])\n",
        "path = get_tmpfile(\"word2vec.model\")\n",
        "model = Word2Vec(texts, size=100, window=5, min_count=1)\n",
        "word_vectors = model.wv\n",
        "\n",
        "fname = get_tmpfile(\"vectors.kv\")\n",
        "word_vectors.save(fname)\n",
        "word_vectors = KeyedVectors.load(fname, mmap='r')"
      ],
      "execution_count": 0,
      "outputs": [
        {
          "output_type": "stream",
          "text": [
            "Downloading 20news dataset. This may take a few minutes.\n",
            "Downloading dataset from https://ndownloader.figshare.com/files/5975967 (14 MB)\n"
          ],
          "name": "stderr"
        },
        {
          "output_type": "stream",
          "text": [
            "[['From', ':', 'lerxst@wam.umd.edu', '(', \"where's\", 'my', 'thing', ')', 'Subject', ':', 'WHAT', 'car', 'is', 'this', '!', '?', 'Nntp-Posting-Host', ':', 'rac3.wam.umd.edu', 'Organization', ':', 'University', 'of', 'Maryland', ',', 'College', 'Park', 'Lines', ':', '15', 'I', 'was', 'wondering', 'if', 'anyone', 'out', 'there', 'could', 'enlighten', 'me', 'on', 'this', 'car', 'I', 'saw', 'the', 'other', 'day', '.', 'It', 'was', 'a', '2', '-', 'door', 'sports', 'car', ',', 'looked', 'to', 'be', 'from', 'the', 'late', '60s', '/', 'early', '70s', '.', 'It', 'was', 'called', 'a', 'Bricklin', '.', 'The', 'doors', 'were', 'really', 'small', '.', 'In', 'addition', ',', 'the', 'front', 'bumper', 'was', 'separate', 'from', 'the', 'rest', 'of', 'the', 'body', '.', 'This', 'is', 'all', 'I', 'know', '.', 'If', 'anyone', 'can', 'tellme', 'a', 'model', 'name', ',', 'engine', 'specs', ',', 'years', 'of', 'production', ',', 'where', 'this', 'car', 'is', 'made', ',', 'history', ',', 'or', 'whatever', 'info', 'you', 'have', 'on', 'this', 'funky', 'looking', 'car', ',', 'please', 'e-mail', '.', 'Thanks', ',', '-', 'IL', '-', '-', '-', 'brought', 'to', 'you', 'by', 'your', 'neighborhood', 'Lerxst', '-', '-', '-'], ['From', ':', 'guykuo@carson.u.washington.edu', '(', 'Guy', 'Kuo', ')', 'Subject', ':', 'SI', 'Clock', 'Poll', '-', 'Final', 'Call', 'Summary', ':', 'Final', 'call', 'for', 'SI', 'clock', 'reports', 'Keywords', ':', 'SI', ',', 'acceleration', ',', 'clock', ',', 'upgrade', 'Article-I', '.', 'D', '.', ':', 'shelley', '.', '1qvfo9INNc3s', 'Organization', ':', 'University', 'of', 'Washington', 'Lines', ':', '11', 'NNTP-Posting-Host', ':', 'carson.u.washington.edu', 'A', 'fair', 'number', 'of', 'brave', 'souls', 'who', 'upgraded', 'their', 'SI', 'clock', 'oscillator', 'have', 'shared', 'their', 'experiences', 'for', 'this', 'poll', '.', 'Please', 'send', 'a', 'brief', 'message', 'detailing', 'your', 'experiences', 'with', 'the', 'procedure', '.', 'Top', 'speed', 'attained', ',', 'CPU', 'rated', 'speed', ',', 'add', 'on', 'cards', 'and', 'adapters', ',', 'heat', 'sinks', ',', 'hour', 'of', 'usage', 'per', 'day', ',', 'floppy', 'disk', 'functionality', 'with', '800', 'and', '1.4', 'm', 'floppies', 'are', 'especially', 'requested', '.', 'I', 'will', 'be', 'summarizing', 'in', 'the', 'next', 'two', 'days', ',', 'so', 'please', 'add', 'to', 'the', 'network', 'knowledge', 'base', 'if', 'you', 'have', 'done', 'the', 'clock', 'upgrade', 'and', \"haven't\", 'answered', 'this', 'poll', '.', 'Thanks', '.', 'Guy', 'Kuo', '<guykuo@u.washington.edu>']]\n"
          ],
          "name": "stdout"
        }
      ]
    },
    {
      "cell_type": "code",
      "metadata": {
        "trusted": true,
        "id": "Kb6H0eyzkcjJ",
        "colab_type": "code",
        "outputId": "a8c30925-9aae-4e78-f066-fb4c996875a1",
        "colab": {}
      },
      "source": [
        "vector = word_vectors['to']  # numpy vector of a word\n",
        "vector"
      ],
      "execution_count": 0,
      "outputs": [
        {
          "output_type": "execute_result",
          "data": {
            "text/plain": [
              "array([ 1.0593208 , -0.19010289,  0.40148103,  0.16376247, -0.5820954 ,\n",
              "        0.72701263,  0.06782283,  0.24134615, -0.4700818 ,  0.4575403 ,\n",
              "        0.8008356 , -0.13715726, -1.1503824 , -0.77891624, -1.1464177 ,\n",
              "        0.4436086 ,  0.9888547 , -0.58507633, -0.37942111,  0.18633063,\n",
              "       -0.30175465,  0.20332046,  0.7821214 , -0.82364297, -0.18804058,\n",
              "       -0.29737043,  0.19518308,  1.035436  , -0.00742515,  0.444846  ,\n",
              "       -0.3097032 , -0.1327093 ,  0.1121838 ,  0.5005292 , -0.26473284,\n",
              "        0.4168269 , -0.49558613,  1.2155564 , -0.3088942 , -1.114738  ,\n",
              "       -0.00740125, -0.49561876, -0.9931312 , -0.16223122, -0.39514533,\n",
              "        0.44389597, -0.78479075, -0.09580354,  0.11260466, -0.80819815,\n",
              "        0.5727596 , -0.5694562 ,  0.14620128,  1.4904591 , -0.6848577 ,\n",
              "        0.01369009,  0.3744453 ,  0.72181207,  0.17264459, -1.2309808 ,\n",
              "        0.66186666,  0.44988865, -0.7741598 ,  1.4115539 ,  0.16223031,\n",
              "       -0.18486516, -0.58153224,  0.2666054 , -0.5808129 , -0.17288868,\n",
              "        0.80741584,  0.22720464,  0.2831653 ,  0.74241114,  0.10127142,\n",
              "       -0.57904065,  0.42782247, -0.73531604, -0.3643245 , -0.15548453,\n",
              "       -0.46040636,  0.25422433, -0.19941111, -0.33214095,  1.1334754 ,\n",
              "       -0.46954367,  0.42060354, -0.45753565,  0.1756488 , -1.4651787 ,\n",
              "        1.0081124 , -0.6742516 ,  0.45806715,  0.7913702 , -0.0640847 ,\n",
              "        0.21203141,  0.06661349, -0.41105893,  1.5091604 ,  0.4426774 ],\n",
              "      dtype=float32)"
            ]
          },
          "metadata": {
            "tags": []
          },
          "execution_count": 2
        }
      ]
    },
    {
      "cell_type": "code",
      "metadata": {
        "trusted": true,
        "id": "i4BcrTDCkcjU",
        "colab_type": "code",
        "colab": {}
      },
      "source": [
        "from gensim.test.utils import datapath\n",
        "wv_from_bin = KeyedVectors.load_word2vec_format(datapath(\"euclidean_vectors.bin\"), binary=True)  # C bin format"
      ],
      "execution_count": 0,
      "outputs": []
    },
    {
      "cell_type": "code",
      "metadata": {
        "trusted": true,
        "id": "nGftMe4Okcjf",
        "colab_type": "code",
        "colab": {}
      },
      "source": [
        "wv_from_bin.save(\"20newsgroup.w2vs.100.bin\")"
      ],
      "execution_count": 0,
      "outputs": []
    },
    {
      "cell_type": "code",
      "metadata": {
        "trusted": true,
        "id": "O1MEiW23kcjn",
        "colab_type": "code",
        "colab": {}
      },
      "source": [
        "# https://radimrehurek.com/gensim/models/word2vec.html"
      ],
      "execution_count": 0,
      "outputs": []
    },
    {
      "cell_type": "code",
      "metadata": {
        "trusted": true,
        "id": "CaBCaP0hkcjx",
        "colab_type": "code",
        "colab": {}
      },
      "source": [
        ""
      ],
      "execution_count": 0,
      "outputs": []
    }
  ]
}